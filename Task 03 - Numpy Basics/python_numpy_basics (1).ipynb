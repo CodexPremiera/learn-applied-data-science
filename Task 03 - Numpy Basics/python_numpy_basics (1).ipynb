{
 "cells": [
  {
   "cell_type": "markdown",
   "id": "edb69a30",
   "metadata": {},
   "source": [
    "# PYTHON NUMPY\n",
    "\n",
    "In our last class meeting, we learned that NumPy is a python library generally used for working with arrays. It includes a wide range of mathematical functions, such as linear algebra, Fourier transforms, and random number generation\n",
    "\n",
    "\n",
    "**Why do we need to learn NumPy?**\n",
    "- NumPy’s are used for machine learning, data science, image and signal processing, scientific computing, and quantum computing.\n",
    "\n",
    "\n",
    "**Advantages of using NumPy Arrays:**\n",
    "- NumPy arrays consume less memory to store data, thus, it has a faster execution compared to Python Lists.\n",
    "\n",
    "- NumPy arrays are optimized for complex mathematical and statistical operations. Up to 50x faster than iterating over Python lists using loops.\n",
    "\n",
    "- It can also be used with various libraries like Pandas, Scipy, sckit-learn, etc.\n",
    "\n",
    "\n",
    "To learn more about Numpy’s, let’s start first with its basic implementations."
   ]
  },
  {
   "cell_type": "markdown",
   "id": "4fdaa11f",
   "metadata": {},
   "source": [
    "### IMPORTING NUMPY\n",
    "\n",
    "Reminder: Make sure that you have installed numpy before calling the library"
   ]
  },
  {
   "cell_type": "code",
   "id": "a210b003",
   "metadata": {
    "ExecuteTime": {
     "end_time": "2024-09-17T13:18:08.200897Z",
     "start_time": "2024-09-17T13:18:08.187633Z"
    }
   },
   "source": [
    "import numpy as np\n",
    "# the numpy library is denoted as np so that it will readable\n",
    "# and easier to call the functions inside the library"
   ],
   "outputs": [],
   "execution_count": 169
  },
  {
   "cell_type": "markdown",
   "id": "17660602",
   "metadata": {},
   "source": [
    "### NUMPY ARRAY CREATION\n",
    "\n",
    "There are various ways on how to create an array:"
   ]
  },
  {
   "cell_type": "markdown",
   "id": "ddc0f4f3",
   "metadata": {},
   "source": [
    "#### Using a Python List:"
   ]
  },
  {
   "metadata": {
    "ExecuteTime": {
     "end_time": "2024-09-17T13:18:09.536068Z",
     "start_time": "2024-09-17T13:18:09.518218Z"
    }
   },
   "cell_type": "code",
   "source": [
    "# complete the code and output the array\n",
    "np_array = np.array([2, 4, 6, 8])\n",
    "print(np_array)\n"
   ],
   "id": "523a6e1e7ad53ad3",
   "outputs": [
    {
     "name": "stdout",
     "output_type": "stream",
     "text": [
      "[2 4 6 8]\n"
     ]
    }
   ],
   "execution_count": 170
  },
  {
   "cell_type": "markdown",
   "id": "a5083e6b",
   "metadata": {},
   "source": [
    "#### Using np.zeros()\n",
    "\n",
    "The number passed as an argument to np.zeros() determines the size of the resulting array filled with zeros."
   ]
  },
  {
   "cell_type": "code",
   "id": "9e5a7517",
   "metadata": {
    "ExecuteTime": {
     "end_time": "2024-09-17T13:18:09.597528Z",
     "start_time": "2024-09-17T13:18:09.579826Z"
    }
   },
   "source": [
    "# complete the code and output the array\n",
    "np_array_zeroes = np.zeros(4)\n",
    "print(np_array_zeroes)\n"
   ],
   "outputs": [
    {
     "name": "stdout",
     "output_type": "stream",
     "text": [
      "[0. 0. 0. 0.]\n"
     ]
    }
   ],
   "execution_count": 171
  },
  {
   "cell_type": "markdown",
   "id": "6ca5eb15",
   "metadata": {},
   "source": [
    "#### Using np.arange()\n",
    "\n",
    "Returns an array with values within a specified interval."
   ]
  },
  {
   "cell_type": "code",
   "id": "56989a7a",
   "metadata": {
    "ExecuteTime": {
     "end_time": "2024-09-17T13:18:09.691606Z",
     "start_time": "2024-09-17T13:18:09.681174Z"
    }
   },
   "source": [
    "# complete the code and output the array\n",
    "\n",
    "#create an array with values from 0 to 4\n",
    "np_array = np.arange(5) \n",
    "print(np_array)\n",
    "\n",
    "#create an array with values from 1 to 8 with a step of 2\n",
    "np_array = np.arange(1, 9, 2) \n",
    "print(np_array)\n"
   ],
   "outputs": [
    {
     "name": "stdout",
     "output_type": "stream",
     "text": [
      "[0 1 2 3 4]\n",
      "[1 3 5 7]\n"
     ]
    }
   ],
   "execution_count": 172
  },
  {
   "cell_type": "markdown",
   "id": "63909a2c",
   "metadata": {},
   "source": [
    "#### Using np.random.rand()\n",
    "\n",
    "Used to create an array of random numbers"
   ]
  },
  {
   "cell_type": "code",
   "id": "3bbf0f46",
   "metadata": {
    "ExecuteTime": {
     "end_time": "2024-09-17T13:18:09.783966Z",
     "start_time": "2024-09-17T13:18:09.764214Z"
    }
   },
   "source": [
    "# complete the code and output the array\n",
    "np_array = np.random.rand(5) * 9 + 1 # random numbers from 1 to 10\n",
    "print(np_array)\n",
    "\n",
    "# try int:\n",
    "np_array = np.random.randint(1, 10, 5) # random integers from 1 to 10\n",
    "print(np_array)\n"
   ],
   "outputs": [
    {
     "name": "stdout",
     "output_type": "stream",
     "text": [
      "[6.48277051 1.64987359 1.59242063 9.1699936  8.48191604]\n",
      "[1 9 3 3 6]\n"
     ]
    }
   ],
   "execution_count": 173
  },
  {
   "cell_type": "markdown",
   "id": "5a7a56b9",
   "metadata": {},
   "source": [
    "#### Using np.empty()\n",
    "\n",
    "Used to create an empty array."
   ]
  },
  {
   "cell_type": "code",
   "id": "6ad9bc68",
   "metadata": {
    "ExecuteTime": {
     "end_time": "2024-09-17T13:18:09.969781Z",
     "start_time": "2024-09-17T13:18:09.950211Z"
    }
   },
   "source": [
    "# complete the code and output the array\n",
    "np_array_empty = np.empty(4)\n",
    "print(np_array_empty)\n",
    "\n",
    "# The elements inside the array are not completely empty but rather it contains non-existing numbers"
   ],
   "outputs": [
    {
     "name": "stdout",
     "output_type": "stream",
     "text": [
      "[4.9e-324 1.5e-323 2.5e-323 3.5e-323]\n"
     ]
    }
   ],
   "execution_count": 174
  },
  {
   "cell_type": "markdown",
   "id": "3f9f5704",
   "metadata": {},
   "source": [
    "### NUMPY DATA TYPES\n",
    "\n",
    "To check the data type of an array call the **```dtype```** attribute, returns the data type of the elements inside the array."
   ]
  },
  {
   "cell_type": "code",
   "id": "ba7361b2",
   "metadata": {
    "ExecuteTime": {
     "end_time": "2024-09-17T13:18:10.077924Z",
     "start_time": "2024-09-17T13:18:10.060379Z"
    }
   },
   "source": [
    "# create an array of integers\n",
    "np_array = np.array([-3, -1, 0, 1]) \n",
    "\n",
    "# print the data type of the array\n",
    "print(np_array.dtype)\n"
   ],
   "outputs": [
    {
     "name": "stdout",
     "output_type": "stream",
     "text": [
      "int64\n"
     ]
    }
   ],
   "execution_count": 175
  },
  {
   "cell_type": "markdown",
   "id": "183cb207",
   "metadata": {},
   "source": [
    "For signed integers, by default, **int64** is the data type you can change its data type by indicating what type to use in creating an array."
   ]
  },
  {
   "cell_type": "code",
   "id": "a963a0f4",
   "metadata": {
    "ExecuteTime": {
     "end_time": "2024-09-17T13:18:10.233787Z",
     "start_time": "2024-09-17T13:18:10.212977Z"
    }
   },
   "source": [
    "np_array = np.array([1, 3, 7], dtype='int32')\n",
    "\n",
    "# print the array and its data type\n",
    "print(np_array.dtype)"
   ],
   "outputs": [
    {
     "name": "stdout",
     "output_type": "stream",
     "text": [
      "int32\n"
     ]
    }
   ],
   "execution_count": 176
  },
  {
   "cell_type": "markdown",
   "id": "76e1986f",
   "metadata": {},
   "source": [
    "Type conversion can also be performed in NumPy."
   ]
  },
  {
   "cell_type": "code",
   "id": "5867f1c5",
   "metadata": {
    "ExecuteTime": {
     "end_time": "2024-09-17T13:18:10.357056Z",
     "start_time": "2024-09-17T13:18:10.336781Z"
    }
   },
   "source": [
    "np_array = np.array([1, 3, 5, 7, 9])\n",
    "print(f\"{np_array} | Data type: {np_array.dtype}\")\n",
    "\n",
    "# use this syntax to perform type conversion arr.astype('float')\n",
    "np_array = np_array.astype('float') # remember to assign it to the new array\n",
    "\n",
    "# print the converted array and its new data type\n",
    "print(f\"{np_array} | Data type: {np_array.dtype}\")"
   ],
   "outputs": [
    {
     "name": "stdout",
     "output_type": "stream",
     "text": [
      "[1 3 5 7 9] | Data type: int64\n",
      "[1. 3. 5. 7. 9.] | Data type: float64\n"
     ]
    }
   ],
   "execution_count": 177
  },
  {
   "cell_type": "markdown",
   "id": "f6fbc2f3",
   "metadata": {},
   "source": [
    "#### Other NumPy Attributes\n",
    "\n",
    "- **```ndim```** – returns number of dimension of the array\n",
    "- **```size```** – returns numbers of elements in the array\n",
    "- **```shape```** – returns the size of the array in each dimension\n",
    "- **```itemsize```** – returns the size (in bytes) of each elements in the array\n",
    "- **```data```** – returns the buffer (reference or pointers) containing actual elements of the array in memory \n"
   ]
  },
  {
   "cell_type": "code",
   "id": "74504775",
   "metadata": {
    "ExecuteTime": {
     "end_time": "2024-09-17T13:18:10.418721Z",
     "start_time": "2024-09-17T13:18:10.402455Z"
    }
   },
   "source": [
    "np_array = np.arange(9)\n",
    "print(np_array)\n",
    "\n",
    "# print the dimension of the array\n",
    "print(f\"Dimension: {np_array.ndim}\")\n",
    "\n",
    "# print the array shape\n",
    "print(f\"Shape: {np_array.shape}\")\n",
    "\n",
    "# print the array size\n",
    "print(f\"Size: {np_array.size}\")\n"
   ],
   "outputs": [
    {
     "name": "stdout",
     "output_type": "stream",
     "text": [
      "[0 1 2 3 4 5 6 7 8]\n",
      "Dimension: 1\n",
      "Shape: (9,)\n",
      "Size: 9\n"
     ]
    }
   ],
   "execution_count": 178
  },
  {
   "cell_type": "markdown",
   "id": "c4449587",
   "metadata": {},
   "source": [
    "### NUMPY ARRAY INDEXING\n",
    "\n",
    "Similar to lists, array elements can be accessed using their index."
   ]
  },
  {
   "cell_type": "code",
   "id": "dcae40f5",
   "metadata": {
    "ExecuteTime": {
     "end_time": "2024-09-17T13:18:10.621813Z",
     "start_time": "2024-09-17T13:18:10.614024Z"
    }
   },
   "source": [
    "np_array = np.array([1, 3, 5, 7, 9, 11])\n",
    "print(np_array)\n",
    "\n",
    "# access the first element\n",
    "print(f\"1st element: {np_array[0]}\")\n",
    "\n",
    "# access the third element\n",
    "print(f\"3rd element: {np_array[2]}\")\n",
    "\n",
    "# access the fifth element\n",
    "print(f\"5th element: {np_array[4]}\")\n"
   ],
   "outputs": [
    {
     "name": "stdout",
     "output_type": "stream",
     "text": [
      "[ 1  3  5  7  9 11]\n",
      "1st element: 1\n",
      "3rd element: 5\n",
      "5th element: 9\n"
     ]
    }
   ],
   "execution_count": 179
  },
  {
   "cell_type": "markdown",
   "id": "0f51c1de",
   "metadata": {},
   "source": [
    "You can also access array elements using negative indexing."
   ]
  },
  {
   "cell_type": "code",
   "id": "de29407d",
   "metadata": {
    "ExecuteTime": {
     "end_time": "2024-09-17T13:18:10.760023Z",
     "start_time": "2024-09-17T13:18:10.739373Z"
    }
   },
   "source": [
    "np_array = np.array([1, 3, 5, 7, 9, 11])\n",
    "print(np_array)\n",
    "\n",
    "# access the last element\n",
    "print(f\"The last element: {np_array[-1]}\")\n",
    "\n",
    "# access the second-to-the-last element\n",
    "print(f\"2nd last element: {np_array[-2]}\")\n",
    "\n",
    "# access the fourth-to-the-last element\n",
    "print(f\"4th last element: {np_array[-4]}\")\n"
   ],
   "outputs": [
    {
     "name": "stdout",
     "output_type": "stream",
     "text": [
      "[ 1  3  5  7  9 11]\n",
      "The last element: 11\n",
      "2nd last element: 9\n",
      "4th last element: 5\n"
     ]
    }
   ],
   "execution_count": 180
  },
  {
   "cell_type": "markdown",
   "id": "0b5ceb0c",
   "metadata": {},
   "source": [
    "### NUMPY ARRAY SLICING\n",
    "\n",
    "Similar to lists, you can also get a subset of array elements using the slicing operator. \n",
    "\n",
    "**```arr[start:stop:step]```**\n",
    "- start is the index where python starts getting the subset by default the index is 0.\n",
    "- stop is the end, however, the last element is stop – 1. By default, the last element is the stop index.\n",
    "- step, is an optional argument, it dictates how many steps it will take before collecting the element in array. By default step is 1."
   ]
  },
  {
   "cell_type": "code",
   "id": "9d710f23",
   "metadata": {
    "ExecuteTime": {
     "end_time": "2024-09-17T13:18:10.915130Z",
     "start_time": "2024-09-17T13:18:10.842148Z"
    }
   },
   "source": [
    "np_array = np.array([1, 3, 5, 7, 9, 11, 13, 15, 17, 19, 21, 23, 25, 27])\n",
    "print(np_array)\n",
    "\n",
    "# get the subset of [5, 7, 9, 11]\n",
    "print(f\"Subset of [5, 7, 9, 11]: {np_array[2:6:]}\")\n",
    "\n",
    "# get the subset of [9, 15, 21, 27]\n",
    "print(f\"Subset of [9, 15, 21, 27]: {np_array[4::3]}\")\n",
    "\n",
    "# get the subset of [13, 17]\n",
    "print(f\"Subset of [13, 17]: {np_array[6:9:2]}\")\n"
   ],
   "outputs": [
    {
     "name": "stdout",
     "output_type": "stream",
     "text": [
      "[ 1  3  5  7  9 11 13 15 17 19 21 23 25 27]\n",
      "Subset of [5, 7, 9, 11]: [ 5  7  9 11]\n",
      "Subset of [9, 15, 21, 27]: [ 9 15 21 27]\n",
      "Subset of [13, 17]: [13 17]\n"
     ]
    }
   ],
   "execution_count": 181
  },
  {
   "cell_type": "markdown",
   "id": "c24911ab",
   "metadata": {},
   "source": [
    "You can also get the subset of the array using Negative Indexing."
   ]
  },
  {
   "cell_type": "code",
   "id": "bfcc14ce",
   "metadata": {
    "ExecuteTime": {
     "end_time": "2024-09-17T13:18:11.070149Z",
     "start_time": "2024-09-17T13:18:11.057054Z"
    }
   },
   "source": [
    "np_array = np.array([1, 3, 5, 7, 9, 11, 13, 15, 17, 19, 21, 23, 25, 27])\n",
    "print(np_array)\n",
    "\n",
    "# get the subset of [23, 25, 27]\n",
    "print(f\"Subset of [23, 25, 27]: {np_array[-3:]}\")\n",
    "\n",
    "# get the subset of [9, 13, 17, 21]\n",
    "print(f\"Subset of [9, 13, 17, 21]: {np_array[-10:-3:2]}\") \n",
    "\n",
    "# get the subset of [27, 17, 7]\n",
    "print(f\"Subset of [27, 17, 7]: {np_array[-1:-12:-5]}\")\n"
   ],
   "outputs": [
    {
     "name": "stdout",
     "output_type": "stream",
     "text": [
      "[ 1  3  5  7  9 11 13 15 17 19 21 23 25 27]\n",
      "Subset of [23, 25, 27]: [23 25 27]\n",
      "Subset of [9, 13, 17, 21]: [ 9 13 17 21]\n",
      "Subset of [27, 17, 7]: [27 17  7]\n"
     ]
    }
   ],
   "execution_count": 182
  },
  {
   "cell_type": "markdown",
   "id": "d4ae3da1",
   "metadata": {},
   "source": [
    "### NUMPY ARRAY RESHAPING\n",
    "\n",
    "A 1D array can be reshaped into an N-D array by calling **```np.reshape(array, newshape, order = ‘C’)```**."
   ]
  },
  {
   "cell_type": "code",
   "id": "ca88e781",
   "metadata": {
    "ExecuteTime": {
     "end_time": "2024-09-17T13:18:11.210405Z",
     "start_time": "2024-09-17T13:18:11.202953Z"
    }
   },
   "source": [
    "np.array([2, 4, 6, 8, 9, 10, 11, 12])\n",
    "\n",
    "# reshaped the array into a 2D array with 2 rows and 4 columns"
   ],
   "outputs": [
    {
     "data": {
      "text/plain": [
       "array([ 2,  4,  6,  8,  9, 10, 11, 12])"
      ]
     },
     "execution_count": 183,
     "metadata": {},
     "output_type": "execute_result"
    }
   ],
   "execution_count": 183
  },
  {
   "cell_type": "markdown",
   "id": "31012619",
   "metadata": {},
   "source": [
    "### NUMPY COMPARISON/LOGICAL OPERATORS\n",
    "\n",
    "In performing this task, NumPy will perform element wise operation."
   ]
  },
  {
   "cell_type": "code",
   "id": "a9502876",
   "metadata": {
    "ExecuteTime": {
     "end_time": "2024-09-17T13:18:11.302487Z",
     "start_time": "2024-09-17T13:18:11.279551Z"
    }
   },
   "source": [
    "array_1 = np.array([1, 2, 3])\n",
    "array_2 = np.array([3, 2, 1])\n",
    "\n",
    "# perform the lesser than comparison using the less() function\n",
    "less_comparison = np.less(array_1, array_2)\n",
    "print(f\"Lesser than comparison: {less_comparison}\")\n",
    "\n",
    "# perform the greater than comparison using the greater() function\n",
    "greater_comparison = np.greater(array_1, array_2)\n",
    "print(f\"Greater than comparison: {greater_comparison}\")\n",
    "\n",
    "# perform the not equal comparison using the not_equal() function\n",
    "not_equal_comparison = np.not_equal(array_1, array_2)\n",
    "print(f\"Not equal comparison: {not_equal_comparison}\")\n"
   ],
   "outputs": [
    {
     "name": "stdout",
     "output_type": "stream",
     "text": [
      "Lesser than comparison: [ True False False]\n",
      "Greater than comparison: [False False  True]\n",
      "Not equal comparison: [ True False  True]\n"
     ]
    }
   ],
   "execution_count": 184
  },
  {
   "cell_type": "markdown",
   "id": "55872e9d",
   "metadata": {},
   "source": [
    "For logical operators, NumPy can store array elements of Boolean type."
   ]
  },
  {
   "cell_type": "code",
   "id": "6141a09a",
   "metadata": {
    "ExecuteTime": {
     "end_time": "2024-09-17T13:18:11.444071Z",
     "start_time": "2024-09-17T13:18:11.434385Z"
    }
   },
   "source": [
    "array_1 = np.array([True, False, True])\n",
    "array_2 = np.array([False, False, True])\n",
    "\n",
    "# perform the AND operator using logical_and() function\n",
    "print(np.logical_and(array_1, array_2))\n"
   ],
   "outputs": [
    {
     "name": "stdout",
     "output_type": "stream",
     "text": [
      "[False False  True]\n"
     ]
    }
   ],
   "execution_count": 185
  },
  {
   "cell_type": "markdown",
   "id": "2ee4c4b7",
   "metadata": {},
   "source": [
    "### NUMPY MATH FUNCTIONS\n",
    "\n",
    "NumPy Math Functions are divided into three categories:\n",
    "- Arithmetic Functions\n",
    "- Trigonometric Functions\n",
    "- Rounding Functions"
   ]
  },
  {
   "cell_type": "markdown",
   "id": "19593b85",
   "metadata": {},
   "source": [
    "Let’s perform Arithmetic Functions on a 1D array:"
   ]
  },
  {
   "cell_type": "code",
   "id": "1b65ee0e",
   "metadata": {
    "ExecuteTime": {
     "end_time": "2024-09-17T13:18:11.490433Z",
     "start_time": "2024-09-17T13:18:11.476134Z"
    }
   },
   "source": [
    "array_1 = np.array([1, 3, 5, 7, 9, 11])\n",
    "array_2 = np.array([2, 4, 6, 8, 10, 12])\n",
    "\n",
    "# get the sum of two arrays using the + operator and add() function\n",
    "print(array_1 + array_2)\n",
    "print(np.add(array_1, array_2))\n",
    "\n",
    "# get the product of two arrays using the * operator and product() function\n",
    "print(array_1 * array_2)\n",
    "print(np.multiply(array_1, array_2))\n"
   ],
   "outputs": [
    {
     "name": "stdout",
     "output_type": "stream",
     "text": [
      "[ 3  7 11 15 19 23]\n",
      "[ 3  7 11 15 19 23]\n",
      "[  2  12  30  56  90 132]\n",
      "[  2  12  30  56  90 132]\n"
     ]
    }
   ],
   "execution_count": 186
  },
  {
   "cell_type": "markdown",
   "id": "1d5062fa",
   "metadata": {},
   "source": [
    "Trigonometric Functions on a 1D array:"
   ]
  },
  {
   "cell_type": "code",
   "id": "2de1cf1c",
   "metadata": {
    "ExecuteTime": {
     "end_time": "2024-09-17T13:18:11.676207Z",
     "start_time": "2024-09-17T13:18:11.666742Z"
    }
   },
   "source": [
    "# array of angles in radians\n",
    "np_array = np.array([0, 1, 2])\n",
    "\n",
    "# compute the cosine of the angles\n",
    "print(np.cos(np_array))\n",
    "\n",
    "# compute the inverse tangent of the angles\n",
    "print(np.arctan(np_array))\n"
   ],
   "outputs": [
    {
     "name": "stdout",
     "output_type": "stream",
     "text": [
      "[ 1.          0.54030231 -0.41614684]\n",
      "[0.         0.78539816 1.10714872]\n"
     ]
    }
   ],
   "execution_count": 187
  },
  {
   "cell_type": "code",
   "id": "b4e29bb5",
   "metadata": {
    "ExecuteTime": {
     "end_time": "2024-09-17T13:18:11.737296Z",
     "start_time": "2024-09-17T13:18:11.731241Z"
    }
   },
   "source": [
    "# angle in radians\n",
    "angle = 1.57079633 \n",
    "\n",
    "# convert the angle to degrees\n",
    "angle_deg = np.rad2deg(angle)\n",
    "print(angle_deg)\n",
    "\n",
    "# convert the angle back to radians\n",
    "angle_rad = np.deg2rad(angle_deg)\n",
    "print(angle_rad)\n"
   ],
   "outputs": [
    {
     "name": "stdout",
     "output_type": "stream",
     "text": [
      "90.0000001836389\n",
      "1.57079633\n"
     ]
    }
   ],
   "execution_count": 188
  },
  {
   "cell_type": "markdown",
   "id": "26f70c05",
   "metadata": {},
   "source": [
    "Rounding Functions"
   ]
  },
  {
   "cell_type": "code",
   "id": "2804fae2",
   "metadata": {
    "ExecuteTime": {
     "end_time": "2024-09-17T13:18:11.875617Z",
     "start_time": "2024-09-17T13:18:11.858997Z"
    }
   },
   "source": [
    "np_array =  np.array([1.23456, 2.34567, 3.45678, 4.56789])\n",
    "\n",
    "# call the floor() function and observe its output\n",
    "print(np.floor(np_array))\n",
    "\n",
    "# call the ceil() function and observe its output\n",
    "print(np.ceil(np_array))\n"
   ],
   "outputs": [
    {
     "name": "stdout",
     "output_type": "stream",
     "text": [
      "[1. 2. 3. 4.]\n",
      "[2. 3. 4. 5.]\n"
     ]
    }
   ],
   "execution_count": 189
  },
  {
   "cell_type": "markdown",
   "id": "5ae608a8",
   "metadata": {},
   "source": [
    "### NUMPY STATISTICAL FUNCTIONS"
   ]
  },
  {
   "cell_type": "code",
   "id": "2e5f15d6",
   "metadata": {
    "ExecuteTime": {
     "end_time": "2024-09-17T13:18:11.967728Z",
     "start_time": "2024-09-17T13:18:11.957572Z"
    }
   },
   "source": [
    "np_array = np.array([76, 78, 81, 66, 85])\n",
    "print(np_array)\n",
    "\n",
    "# compute the mean of the marks\n",
    "print(f\"Mean = {np.mean(np_array)}\")\n",
    "\n",
    "# compute the median of marks\n",
    "print(f\"Median = {np.median(np_array)}\")\n",
    "\n",
    "# find the maximum and minimum marks\n",
    "print(f\"Max = {np.max(np_array)}\")\n",
    "print(f\"Min = {np.min(np_array)}\")\n"
   ],
   "outputs": [
    {
     "name": "stdout",
     "output_type": "stream",
     "text": [
      "[76 78 81 66 85]\n",
      "Mean = 77.2\n",
      "Median = 78.0\n",
      "Max = 85\n",
      "Min = 66\n"
     ]
    }
   ],
   "execution_count": 190
  },
  {
   "cell_type": "markdown",
   "id": "e1803326",
   "metadata": {},
   "source": [
    "Now, that you are more familiar with using the different NumPy operations on a 1D array. Let’s try to make it more challenging by applying the different NumPy operations on an N-D dimensional array."
   ]
  },
  {
   "cell_type": "markdown",
   "id": "e1956ea4",
   "metadata": {},
   "source": [
    "### N-D ARRAY FROM LIST OF LISTS"
   ]
  },
  {
   "cell_type": "code",
   "id": "e49884b8",
   "metadata": {
    "ExecuteTime": {
     "end_time": "2024-09-17T13:18:12.108452Z",
     "start_time": "2024-09-17T13:18:12.088724Z"
    }
   },
   "source": [
    "np_array = np.array([[1, 2, 3, 4, 5],\n",
    "           [6, 7, 8, 9, 10]])\n",
    "\n",
    "#print the array including its dimension and shape\n",
    "print(np_array)\n",
    "print(f\"Dimension = {np_array.ndim}\")\n",
    "print(f\"Shape = {np_array.shape}\")\n"
   ],
   "outputs": [
    {
     "name": "stdout",
     "output_type": "stream",
     "text": [
      "[[ 1  2  3  4  5]\n",
      " [ 6  7  8  9 10]]\n",
      "Dimension = 2\n",
      "Shape = (2, 5)\n"
     ]
    }
   ],
   "execution_count": 191
  },
  {
   "cell_type": "code",
   "id": "6f559006",
   "metadata": {
    "ExecuteTime": {
     "end_time": "2024-09-17T13:18:12.200664Z",
     "start_time": "2024-09-17T13:18:12.185581Z"
    }
   },
   "source": [
    "np_array = np.array([[[1, 2, 3, 4],\n",
    "            [5, 6, 7, 8],\n",
    "            [9, 10, 11, 12]],\n",
    "\n",
    "           [[13, 14, 15, 16], \n",
    "           [17, 18, 19, 20], \n",
    "           [21, 22, 23, 24]]])\n",
    "\n",
    "#print the array including its dimension and shape\n",
    "print(np_array)\n",
    "print(f\"Dimension = {np_array.ndim}\")\n",
    "print(f\"Shape = {np_array.shape}\")"
   ],
   "outputs": [
    {
     "name": "stdout",
     "output_type": "stream",
     "text": [
      "[[[ 1  2  3  4]\n",
      "  [ 5  6  7  8]\n",
      "  [ 9 10 11 12]]\n",
      "\n",
      " [[13 14 15 16]\n",
      "  [17 18 19 20]\n",
      "  [21 22 23 24]]]\n",
      "Dimension = 3\n",
      "Shape = (2, 3, 4)\n"
     ]
    }
   ],
   "execution_count": 192
  },
  {
   "cell_type": "markdown",
   "id": "32b96c55",
   "metadata": {},
   "source": [
    "### Using np.zeros()"
   ]
  },
  {
   "cell_type": "code",
   "id": "a48d92f2",
   "metadata": {
    "ExecuteTime": {
     "end_time": "2024-09-17T13:18:12.356209Z",
     "start_time": "2024-09-17T13:18:12.348810Z"
    }
   },
   "source": [
    "# create a 2D array with 2 rows and 3 columns filled with zeros\n",
    "np_array = np.zeros([2, 3], int)\n",
    "print(np_array)\n"
   ],
   "outputs": [
    {
     "name": "stdout",
     "output_type": "stream",
     "text": [
      "[[0 0 0]\n",
      " [0 0 0]]\n"
     ]
    }
   ],
   "execution_count": 193
  },
  {
   "cell_type": "code",
   "id": "8ff4193f",
   "metadata": {
    "ExecuteTime": {
     "end_time": "2024-09-17T13:18:12.481161Z",
     "start_time": "2024-09-17T13:18:12.469074Z"
    }
   },
   "source": [
    "# create a 3D array with dimensions 2x3x4 filled with zeros\n",
    "np_array = np.zeros([2, 3, 4], int)\n",
    "print(np_array)"
   ],
   "outputs": [
    {
     "name": "stdout",
     "output_type": "stream",
     "text": [
      "[[[0 0 0 0]\n",
      "  [0 0 0 0]\n",
      "  [0 0 0 0]]\n",
      "\n",
      " [[0 0 0 0]\n",
      "  [0 0 0 0]\n",
      "  [0 0 0 0]]]\n"
     ]
    }
   ],
   "execution_count": 194
  },
  {
   "cell_type": "markdown",
   "id": "71cc8c8b",
   "metadata": {},
   "source": [
    "### Using np.full()\n",
    "\n",
    "This function is used when you want to create an N-D array with a specific value."
   ]
  },
  {
   "cell_type": "code",
   "id": "81387392",
   "metadata": {
    "ExecuteTime": {
     "end_time": "2024-09-17T13:18:12.559063Z",
     "start_time": "2024-09-17T13:18:12.546334Z"
    }
   },
   "source": [
    "# create a 2D array with elements initialized to 5\n",
    "np_array = np.full((2, 2), 5) \n",
    "\n",
    "# print the array\n",
    "print(np_array)"
   ],
   "outputs": [
    {
     "name": "stdout",
     "output_type": "stream",
     "text": [
      "[[5 5]\n",
      " [5 5]]\n"
     ]
    }
   ],
   "execution_count": 195
  },
  {
   "cell_type": "markdown",
   "id": "56011c0f",
   "metadata": {},
   "source": [
    "### Using np.random.rand()"
   ]
  },
  {
   "cell_type": "code",
   "id": "4d96b294",
   "metadata": {
    "ExecuteTime": {
     "end_time": "2024-09-17T13:18:12.683972Z",
     "start_time": "2024-09-17T13:18:12.669356Z"
    }
   },
   "source": [
    "# create a 2D array of 3 rows and 3 columns of random numbers\n",
    "np_array = np.full((3, 3), np.random.rand()) \n",
    "print(np_array)"
   ],
   "outputs": [
    {
     "name": "stdout",
     "output_type": "stream",
     "text": [
      "[[0.82895769 0.82895769 0.82895769]\n",
      " [0.82895769 0.82895769 0.82895769]\n",
      " [0.82895769 0.82895769 0.82895769]]\n"
     ]
    }
   ],
   "execution_count": 196
  },
  {
   "cell_type": "code",
   "id": "6ea1ca6a",
   "metadata": {
    "ExecuteTime": {
     "end_time": "2024-09-17T13:18:12.777635Z",
     "start_time": "2024-09-17T13:18:12.764127Z"
    }
   },
   "source": [
    "# create a 3D array of shape (3, 3, 3) of random numbers\n",
    "np_array = np.full((3, 3, 3), np.random.rand()) \n",
    "print(np_array)"
   ],
   "outputs": [
    {
     "name": "stdout",
     "output_type": "stream",
     "text": [
      "[[[0.77514835 0.77514835 0.77514835]\n",
      "  [0.77514835 0.77514835 0.77514835]\n",
      "  [0.77514835 0.77514835 0.77514835]]\n",
      "\n",
      " [[0.77514835 0.77514835 0.77514835]\n",
      "  [0.77514835 0.77514835 0.77514835]\n",
      "  [0.77514835 0.77514835 0.77514835]]\n",
      "\n",
      " [[0.77514835 0.77514835 0.77514835]\n",
      "  [0.77514835 0.77514835 0.77514835]\n",
      "  [0.77514835 0.77514835 0.77514835]]]\n"
     ]
    }
   ],
   "execution_count": 197
  },
  {
   "cell_type": "markdown",
   "id": "82b5689f",
   "metadata": {},
   "source": [
    "### Using np.empty()"
   ]
  },
  {
   "cell_type": "code",
   "id": "efde6110",
   "metadata": {
    "ExecuteTime": {
     "end_time": "2024-09-17T13:18:12.902693Z",
     "start_time": "2024-09-17T13:18:12.894891Z"
    }
   },
   "source": [
    "# create an empty 2D array with 2 rows and 2 columns\n",
    "np_array = np.empty((2, 2), int) \n",
    "print(np_array)"
   ],
   "outputs": [
    {
     "name": "stdout",
     "output_type": "stream",
     "text": [
      "[[5 5]\n",
      " [5 5]]\n"
     ]
    }
   ],
   "execution_count": 198
  },
  {
   "cell_type": "code",
   "id": "cf8fee6f",
   "metadata": {
    "ExecuteTime": {
     "end_time": "2024-09-17T13:18:13.027355Z",
     "start_time": "2024-09-17T13:18:13.014905Z"
    }
   },
   "source": [
    "# create an empty 3D array of shape (2, 2, 2)\n",
    "np_array = np.empty((2, 2, 2))\n",
    "print(np_array)"
   ],
   "outputs": [
    {
     "name": "stdout",
     "output_type": "stream",
     "text": [
      "[[[  0.  -14. ]\n",
      "  [  0.    0. ]]\n",
      "\n",
      " [[ 87.5   0. ]\n",
      "  [ 87.5 -14. ]]]\n"
     ]
    }
   ],
   "execution_count": 199
  },
  {
   "cell_type": "markdown",
   "id": "bf0372b6",
   "metadata": {},
   "source": [
    "### NUMPY ARRAY INDEXING ON N-D ARRAYS"
   ]
  },
  {
   "cell_type": "markdown",
   "id": "f1aa310b",
   "metadata": {},
   "source": [
    "In 2D NumPy Array, to access a specific element, you need to remember to use the square bracket notation and its syntax **```arr[row, column]```**."
   ]
  },
  {
   "cell_type": "code",
   "id": "a1bc643e",
   "metadata": {
    "ExecuteTime": {
     "end_time": "2024-09-17T13:18:13.196521Z",
     "start_time": "2024-09-17T13:18:13.184787Z"
    }
   },
   "source": [
    "np_array = np.array([[1, 3, 5, 7],\n",
    "           [2, 4, 6, 8],\n",
    "           [9, 11, 13, 15]])\n",
    "\n",
    "# access the element at the third row and second column\n",
    "row, col = 2, 1\n",
    "print(f\"np_array[{row}, {col}] = {np_array[row, col]}\")\n",
    "\n",
    "# access the element at the second row and third column\n",
    "row, col = 1, 2\n",
    "print(f\"np_array[{row}, {col}] = {np_array[row, col]}\")\n",
    "\n",
    "# print the last row\n",
    "print(f\"last row = {np_array[-1]}\")\n",
    "\n",
    "# print the last column\n",
    "print(f\"last column = {np_array[:, -1]}\") # colon (:) means \"all rows,\" and -1 means the last column"
   ],
   "outputs": [
    {
     "name": "stdout",
     "output_type": "stream",
     "text": [
      "np_array[2, 1] = 11\n",
      "np_array[1, 2] = 6\n",
      "last row = [ 9 11 13 15]\n",
      "last column = [ 7  8 15]\n"
     ]
    }
   ],
   "execution_count": 200
  },
  {
   "cell_type": "markdown",
   "id": "f50b8ce1",
   "metadata": {},
   "source": [
    "For 3D arrays, to access an element **```arr[slice, row, column]```**."
   ]
  },
  {
   "cell_type": "code",
   "id": "99da68e4",
   "metadata": {
    "ExecuteTime": {
     "end_time": "2024-09-17T13:18:13.242505Z",
     "start_time": "2024-09-17T13:18:13.233006Z"
    }
   },
   "source": [
    "np_array = np.array([[[1, 2, 3, 4],\n",
    "            [5, 6, 7, 8],\n",
    "            [9, 10, 11, 12]],\n",
    "\n",
    "           [[13, 14, 15, 16], \n",
    "           [17, 18, 19, 20], \n",
    "           [21, 22, 23, 24]]])\n",
    "\n",
    "# print this element arr[1, 2, 1]\n",
    "print(f\"np_array[1, 2, 1] = {np_array[1, 2, 1]}\")\n"
   ],
   "outputs": [
    {
     "name": "stdout",
     "output_type": "stream",
     "text": [
      "np_array[1, 2, 1] = 22\n"
     ]
    }
   ],
   "execution_count": 201
  },
  {
   "cell_type": "markdown",
   "id": "1149c39a",
   "metadata": {},
   "source": [
    "### NUMPY 2-D ARRAY SLICING\n",
    "\n",
    "**```arr[row_start:row_stop:row_step, col_start:col_stop:col_step]```**\n",
    "\n",
    "To get the subset of rows, let’s have a breakdown of the different indexes for the row. **```row_start```** is the starting index, indicating which row to start from to get the subset; by default its index is 0. **```row_stop```**, signifies the last row to get the subset (**```row_stop```**-1), and by default the last row of the entire array is the **```row_stop```** index. Lastly, **```row_step```** is an optional index that counts how many steps to take and its default value is 1.\n",
    "\n",
    "To get the subset of columns, the idea of how slicing works in rows is also similar to columns."
   ]
  },
  {
   "cell_type": "code",
   "id": "79d33fb5",
   "metadata": {
    "ExecuteTime": {
     "end_time": "2024-09-17T13:18:13.426544Z",
     "start_time": "2024-09-17T13:18:13.413506Z"
    }
   },
   "source": [
    "np_array = np.array([[1, 3, 5, 7],\n",
    "           [2, 4, 6, 8],\n",
    "           [9, 11, 13, 15]])\n",
    "\n",
    "# slice the array to get the first two rows and columns\n",
    "print(f\"first two rows and columns = \\n{np_array[:2:, :2:]}\")\n",
    "\n",
    "# slice the array to get the last two rows and columns\n",
    "print(f\"last two rows and columns = \\n {np_array[-2::, -2::]}\")\n",
    "\n",
    "# output the second row of the array [2, 4, 6, 8]\n",
    "print(f\"second row of the array = \\n {np_array[1:2:, :]}\")\n",
    "\n",
    "# output the fourth column of the array [7, 8, 15]\n",
    "print(f\"fourth column of the array = \\n {np_array[:, 3:4:]}\")"
   ],
   "outputs": [
    {
     "name": "stdout",
     "output_type": "stream",
     "text": [
      "first two rows and columns = \n",
      "[[1 3]\n",
      " [2 4]]\n",
      "last two rows and columns = \n",
      " [[ 6  8]\n",
      " [13 15]]\n",
      "second row of the array = \n",
      " [[2 4 6 8]]\n",
      "fourth column of the array = \n",
      " [[ 7]\n",
      " [ 8]\n",
      " [15]]\n"
     ]
    }
   ],
   "execution_count": 202
  },
  {
   "cell_type": "markdown",
   "id": "599bcf54",
   "metadata": {},
   "source": [
    "### NUMPY ARRAY RESHAPING\n",
    "\n",
    "Just as NumPy allows 1-D arrays to transform into an N-D array, you can also flatten an N-D array to a 1-D array."
   ]
  },
  {
   "cell_type": "code",
   "id": "e4e3b05e",
   "metadata": {
    "ExecuteTime": {
     "end_time": "2024-09-17T13:18:13.519422Z",
     "start_time": "2024-09-17T13:18:13.506418Z"
    }
   },
   "source": [
    "# flatten a 2D array to 1D\n",
    "np_array = np.array([[1, 3],\n",
    "           [6, 8],\n",
    "           [11, 13]]) \n",
    "\n",
    "# np.reshape(arr, -1)\n",
    "print(f\"Flattened array using flatten(): {np_array.flatten()}\")\n"
   ],
   "outputs": [
    {
     "name": "stdout",
     "output_type": "stream",
     "text": [
      "Flattened array using flatten(): [ 1  3  6  8 11 13]\n"
     ]
    }
   ],
   "execution_count": 203
  },
  {
   "cell_type": "code",
   "id": "52f436c9",
   "metadata": {
    "ExecuteTime": {
     "end_time": "2024-09-17T13:18:13.691198Z",
     "start_time": "2024-09-17T13:18:13.678212Z"
    }
   },
   "source": [
    "# flatten a 3D array to 1D\n",
    "np_array = np.array([[[1, 2],\n",
    "            [6, 8],\n",
    "            [9,12]],\n",
    "\n",
    "           [[13, 14], \n",
    "           [17, 20], \n",
    "           [21, 24]]])\n",
    "\n",
    "# np.reshape(arr, -1)\n",
    "print(f\"Flattened array: \\n {np_array.flatten()}\")\n"
   ],
   "outputs": [
    {
     "name": "stdout",
     "output_type": "stream",
     "text": [
      "Flattened array: \n",
      " [ 1  2  6  8  9 12 13 14 17 20 21 24]\n"
     ]
    }
   ],
   "execution_count": 204
  },
  {
   "cell_type": "markdown",
   "id": "d64b3044",
   "metadata": {},
   "source": [
    "### NUMPY ARRAY TRANSPOSE\n",
    "\n",
    "One of the operations in matrices is transpose and NumPy offers that function by calling **```np.transpose()```**."
   ]
  },
  {
   "cell_type": "code",
   "id": "09b7a412",
   "metadata": {
    "ExecuteTime": {
     "end_time": "2024-09-17T13:18:13.783869Z",
     "start_time": "2024-09-17T13:18:13.770122Z"
    }
   },
   "source": [
    "np_array = np.array([[1, 3, 5],\n",
    "           [2, 4, 8]])\n",
    "\n",
    "# transpose the 2D array\n",
    "print(f\"Original array: \\n {np_array}\")\n",
    "print(f\"Transposed array: \\n {np_array.transpose()}\")"
   ],
   "outputs": [
    {
     "name": "stdout",
     "output_type": "stream",
     "text": [
      "Original array: \n",
      " [[1 3 5]\n",
      " [2 4 8]]\n",
      "Transposed array: \n",
      " [[1 2]\n",
      " [3 4]\n",
      " [5 8]]\n"
     ]
    }
   ],
   "execution_count": 205
  },
  {
   "cell_type": "markdown",
   "id": "8da42143",
   "metadata": {},
   "source": [
    "### NUMPY MATH FUNCTIONS\n",
    "\n",
    "In working with math operations on 2D arrays, one of the arguments to be passed is the array and its axis. Take note that axis is the valid syntax for passing the second argument in a function. For example:"
   ]
  },
  {
   "cell_type": "code",
   "id": "1bdd03e6",
   "metadata": {
    "ExecuteTime": {
     "end_time": "2024-09-17T13:18:13.936974Z",
     "start_time": "2024-09-17T13:18:13.924201Z"
    }
   },
   "source": [
    "np_array = np.array([[2, 4, 6],\n",
    "           [8, 10, 12],\n",
    "           [14, 16, 18]])\n",
    "\n",
    "# computes the median along the horizontal axis\n",
    "np.median(np_array, axis = 0) "
   ],
   "outputs": [
    {
     "data": {
      "text/plain": [
       "array([ 8., 10., 12.])"
      ]
     },
     "execution_count": 206,
     "metadata": {},
     "output_type": "execute_result"
    }
   ],
   "execution_count": 206
  },
  {
   "cell_type": "markdown",
   "id": "d25bae08",
   "metadata": {},
   "source": [
    "**```np.median(arr, axis = 0)```**\n",
    "\n",
    "In a 2D array, **```axis = 0```** refers to the rows, therefore, it will compute the median for each column separately. This results in an array where each element represents the median of values across the rows for the corresponding column. "
   ]
  },
  {
   "cell_type": "code",
   "id": "e730d097",
   "metadata": {
    "ExecuteTime": {
     "end_time": "2024-09-17T13:18:14.013679Z",
     "start_time": "2024-09-17T13:18:14.000461Z"
    }
   },
   "source": [
    "nnp_array = np.array([[2, 4, 6],\n",
    "           [8, 10, 12],\n",
    "           [14, 16, 18]])\n",
    "\n",
    "# computes the median along the vertical axis\n",
    "np.median(np_array, axis = 1)"
   ],
   "outputs": [
    {
     "data": {
      "text/plain": [
       "array([ 4., 10., 16.])"
      ]
     },
     "execution_count": 207,
     "metadata": {},
     "output_type": "execute_result"
    }
   ],
   "execution_count": 207
  },
  {
   "cell_type": "markdown",
   "id": "bd106947",
   "metadata": {},
   "source": [
    "# NUMPY EXERCISE WITH CSV FILE\n",
    "\n",
    "In this section, you will do some basic NumPy operations in a CSV file."
   ]
  },
  {
   "cell_type": "markdown",
   "id": "7f4443f4",
   "metadata": {},
   "source": [
    "### IMPORT THE NUMPY LIBRARY"
   ]
  },
  {
   "cell_type": "code",
   "id": "355e4835",
   "metadata": {
    "ExecuteTime": {
     "end_time": "2024-09-17T13:18:14.122369Z",
     "start_time": "2024-09-17T13:18:14.115101Z"
    }
   },
   "source": [
    "# write your code"
   ],
   "outputs": [],
   "execution_count": 208
  },
  {
   "cell_type": "markdown",
   "id": "3d1e2c64",
   "metadata": {},
   "source": [
    "### READ THE CSV FILE\n",
    "\n",
    "Try importing the CSV file **```air-quality-data.csv```**. This file contains 13 columns. Here are the details of the column:\n",
    "- Datetime\n",
    "- PM2.5\n",
    "- PM10\n",
    "- NO2\n",
    "- NH3\n",
    "- SO2\n",
    "- CO\n",
    "- O3\n",
    "- NOx\n",
    "- NO\n",
    "- Benzene\n",
    "- Toluene\n",
    "- Xylene\n",
    "\n",
    "All the columns except for Datetime, are of data type float. This dataset is used to check the quality of the air in a certain place using different factors. Let’s try working with the dataset and perform various NumPy operations."
   ]
  },
  {
   "cell_type": "markdown",
   "id": "b91ed373",
   "metadata": {},
   "source": [
    "To read the file we will be using the **```np.genfromtxt()```** function."
   ]
  },
  {
   "cell_type": "code",
   "id": "0fde06d4",
   "metadata": {
    "ExecuteTime": {
     "end_time": "2024-09-17T13:18:14.371970Z",
     "start_time": "2024-09-17T13:18:14.249479Z"
    }
   },
   "source": [
    "# complete the code\n",
    "path = './air-quality-data.csv'\n",
    "np_data = np.genfromtxt(path, delimiter=',', skip_header=True, usecols=range(1, 13))"
   ],
   "outputs": [],
   "execution_count": 209
  },
  {
   "cell_type": "markdown",
   "id": "25c61f6d",
   "metadata": {},
   "source": [
    "Explanation: **```path```** variable contains the file directory of the csv file. We also called the **```skip_header```** variable and set it to **```True```** since these data are not needed for the NumPy operations. Additonally, the **```usecols```** parameter excludes the Datatime column from the array."
   ]
  },
  {
   "cell_type": "markdown",
   "id": "9e1483d1",
   "metadata": {},
   "source": [
    "### OUTPUT THE LOADED DATA"
   ]
  },
  {
   "cell_type": "code",
   "id": "7cff4194",
   "metadata": {
    "ExecuteTime": {
     "end_time": "2024-09-17T13:18:14.465644Z",
     "start_time": "2024-09-17T13:18:14.453060Z"
    }
   },
   "source": [
    "# print the loaded data\n",
    "print(np_data)\n"
   ],
   "outputs": [
    {
     "name": "stdout",
     "output_type": "stream",
     "text": [
      "[[103.26 305.46  94.71 ...  13.65  83.47   2.54]\n",
      " [104.47 309.14  74.66 ...  11.35  76.79   2.91]\n",
      " [ 90.   314.02  48.11 ...   5.66  32.91   1.59]\n",
      " ...\n",
      " [ 45.3  125.22  22.91 ...   1.72  18.06   1.16]\n",
      " [ 49.04 129.39  20.95 ...   1.66  16.17   1.18]\n",
      " [ 50.51 128.86  20.4  ...   1.6   16.79   0.85]]\n"
     ]
    }
   ],
   "execution_count": 210
  },
  {
   "cell_type": "code",
   "id": "6e61d04d",
   "metadata": {
    "ExecuteTime": {
     "end_time": "2024-09-17T13:18:14.607279Z",
     "start_time": "2024-09-17T13:18:14.594571Z"
    }
   },
   "source": [
    "# print data dimension\n",
    "print(f\"Data dimension: {np_data.ndim}\")"
   ],
   "outputs": [
    {
     "name": "stdout",
     "output_type": "stream",
     "text": [
      "Data dimension: 2\n"
     ]
    }
   ],
   "execution_count": 211
  },
  {
   "cell_type": "code",
   "id": "7e38b098",
   "metadata": {
    "ExecuteTime": {
     "end_time": "2024-09-17T13:18:14.763271Z",
     "start_time": "2024-09-17T13:18:14.750877Z"
    }
   },
   "source": [
    "# print data shape\n",
    "print(f\"Data shape: {np_data.shape}\")"
   ],
   "outputs": [
    {
     "name": "stdout",
     "output_type": "stream",
     "text": [
      "Data shape: (9528, 12)\n"
     ]
    }
   ],
   "execution_count": 212
  },
  {
   "cell_type": "code",
   "id": "2fa4b691",
   "metadata": {
    "ExecuteTime": {
     "end_time": "2024-09-17T13:18:14.857457Z",
     "start_time": "2024-09-17T13:18:14.844866Z"
    }
   },
   "source": [
    "# print array data type\n",
    "print(f\"Data data-type: {np_data.dtype}\")"
   ],
   "outputs": [
    {
     "name": "stdout",
     "output_type": "stream",
     "text": [
      "Data data-type: float64\n"
     ]
    }
   ],
   "execution_count": 213
  },
  {
   "cell_type": "markdown",
   "id": "07de8185",
   "metadata": {},
   "source": [
    "### PERFORMING STATISTICAL OPERATIONS IN DATA"
   ]
  },
  {
   "cell_type": "code",
   "id": "de1f600d",
   "metadata": {
    "ExecuteTime": {
     "end_time": "2024-09-17T13:18:14.999012Z",
     "start_time": "2024-09-17T13:18:14.985664Z"
    }
   },
   "source": [
    "# compute the mean and median for each data column\n",
    "# print the results\n",
    "print(f\"Median per column: {np.median(np_data, axis=1)}\") # axis = 1 is column"
   ],
   "outputs": [
    {
     "name": "stdout",
     "output_type": "stream",
     "text": [
      "Median per column: [57.45  54.37  30.435 ... 18.01  16.485 16.81 ]\n"
     ]
    }
   ],
   "execution_count": 214
  },
  {
   "cell_type": "code",
   "id": "c6e481c8",
   "metadata": {
    "ExecuteTime": {
     "end_time": "2024-09-17T13:18:15.091872Z",
     "start_time": "2024-09-17T13:18:15.077716Z"
    }
   },
   "source": [
    "# find the maximum and minimum values for each data column\n",
    "# print results\n",
    "print(f\"Max per column: {np.max(np_data, axis=1)}\")\n",
    "print(f\"Min per column: {np.min(np_data, axis=1)}\")"
   ],
   "outputs": [
    {
     "name": "stdout",
     "output_type": "stream",
     "text": [
      "Max per column: [305.46 309.14 314.02 ... 125.22 129.39 128.86]\n",
      "Min per column: [2.54 1.69 0.83 ... 1.04 1.   0.85]\n"
     ]
    }
   ],
   "execution_count": 215
  },
  {
   "cell_type": "code",
   "id": "77eaf6ea",
   "metadata": {
    "ExecuteTime": {
     "end_time": "2024-09-17T13:18:15.262766Z",
     "start_time": "2024-09-17T13:18:15.249553Z"
    }
   },
   "source": [
    "# compute the standard deviation in the seventh column of the array\n",
    "# print results\n",
    "print(f\"Standard Deviation per column: {np.std(np_data, axis=1)}\")"
   ],
   "outputs": [
    {
     "name": "stdout",
     "output_type": "stream",
     "text": [
      "Standard Deviation per column: [87.22505248 80.75318284 81.93477258 ... 32.91884781 34.24754939\n",
      " 34.07901969]\n"
     ]
    }
   ],
   "execution_count": 216
  },
  {
   "cell_type": "code",
   "id": "187f49d3",
   "metadata": {
    "ExecuteTime": {
     "end_time": "2024-09-17T13:18:15.324243Z",
     "start_time": "2024-09-17T13:18:15.310969Z"
    }
   },
   "source": [
    "# only compute the standard deviation of the first 50 elements in the seventh column of the array\n",
    "# print results\n",
    "print(np_data[:50:, 6])\n",
    "print(f\"Standard Deviation first 50 of col7: {np.std(np_data[:50:, 6], axis=0)}\")"
   ],
   "outputs": [
    {
     "name": "stdout",
     "output_type": "stream",
     "text": [
      "[ 18.06  18.65  28.27  27.47  26.92  28.71  29.26  27.07  33.05  46.97\n",
      "  62.89  88.58 107.29 118.81 125.11 122.43 118.24 112.06 105.73  68.93\n",
      "  31.67  20.98  19.35  17.28  18.16  18.05  20.03  18.25  17.84  18.09\n",
      "  20.28  23.17  28.88  47.6   67.49  98.39 124.18 132.37 124.23 128.11\n",
      " 140.09 131.03 114.9   85.33  59.9   46.6   37.56  29.03  33.58  43.98]\n",
      "Standard Deviation first 50 of col7: 42.673281476821074\n"
     ]
    }
   ],
   "execution_count": 217
  },
  {
   "cell_type": "markdown",
   "id": "212b426f",
   "metadata": {},
   "source": [
    "### DATA SLICING AND FILTERING"
   ]
  },
  {
   "cell_type": "code",
   "id": "2cb16449",
   "metadata": {
    "ExecuteTime": {
     "end_time": "2024-09-17T13:18:15.478682Z",
     "start_time": "2024-09-17T13:18:15.466381Z"
    }
   },
   "source": [
    "# output data values greater than 28 in the third column of the array\n",
    "# the printed output should be a numerical value\n",
    "third_column = np_data[:, 2]\n",
    "print(third_column[third_column > 28])\n"
   ],
   "outputs": [
    {
     "name": "stdout",
     "output_type": "stream",
     "text": [
      "[94.71 74.66 48.11 ... 29.17 33.49 28.64]\n"
     ]
    }
   ],
   "execution_count": 218
  },
  {
   "cell_type": "code",
   "id": "4f9a1001",
   "metadata": {
    "ExecuteTime": {
     "end_time": "2024-09-17T13:18:15.587969Z",
     "start_time": "2024-09-17T13:18:15.574786Z"
    }
   },
   "source": [
    "# output the first five row and column elements\n",
    "print(np_data[:5:, :5:])"
   ],
   "outputs": [
    {
     "name": "stdout",
     "output_type": "stream",
     "text": [
      "[[103.26 305.46  94.71  31.43  30.16]\n",
      " [104.47 309.14  74.66  34.08  27.02]\n",
      " [ 90.   314.02  48.11  32.6   18.12]\n",
      " [ 78.01 356.14  45.45  30.21  16.78]\n",
      " [ 80.19 372.9   45.23  28.68  16.41]]\n"
     ]
    }
   ],
   "execution_count": 219
  },
  {
   "cell_type": "code",
   "id": "436dff6c",
   "metadata": {
    "ExecuteTime": {
     "end_time": "2024-09-17T13:18:15.714764Z",
     "start_time": "2024-09-17T13:18:15.700779Z"
    }
   },
   "source": [
    "# output the first 20 row elements and all data columns with step 4\n",
    "print(np_data[:20:, ::4])"
   ],
   "outputs": [
    {
     "name": "stdout",
     "output_type": "stream",
     "text": [
      "[[103.26  30.16 152.73]\n",
      " [104.47  27.02  79.98]\n",
      " [ 90.    18.12  25.27]\n",
      " [ 78.01  16.78  21.5 ]\n",
      " [ 80.19  16.41  22.15]\n",
      " [ 83.59  17.42  21.04]\n",
      " [ 79.04  16.91  24.37]\n",
      " [ 77.32  17.86  28.81]\n",
      " [ 84.3   20.19  27.76]\n",
      " [ 94.79  19.97  23.47]\n",
      " [ 99.37  19.31  20.04]\n",
      " [ 99.67  18.82  14.65]\n",
      " [ 97.87  20.84  14.12]\n",
      " [ 98.59  21.07  15.66]\n",
      " [ 87.8   20.32  13.93]\n",
      " [ 80.14  18.94  17.06]\n",
      " [ 74.4   17.75  15.58]\n",
      " [ 70.15  17.26  21.31]\n",
      " [ 68.17  17.96  23.17]\n",
      " [ 70.63  16.86  37.65]]\n"
     ]
    }
   ],
   "execution_count": 220
  },
  {
   "cell_type": "code",
   "id": "8610b18f",
   "metadata": {
    "ExecuteTime": {
     "end_time": "2024-09-17T13:18:15.823392Z",
     "start_time": "2024-09-17T13:18:15.809424Z"
    }
   },
   "source": [
    "# get the last row\n",
    "# reshape the array to a 2D array with a shape of (4, 3)\n",
    "last_row = np_data[-1]\n",
    "print(last_row)\n",
    "print(np.reshape(last_row, (4, 3)))"
   ],
   "outputs": [
    {
     "name": "stdout",
     "output_type": "stream",
     "text": [
      "[ 50.51 128.86  20.4   29.4   10.98   0.94  34.53  16.83   6.19   1.6\n",
      "  16.79   0.85]\n",
      "[[ 50.51 128.86  20.4 ]\n",
      " [ 29.4   10.98   0.94]\n",
      " [ 34.53  16.83   6.19]\n",
      " [  1.6   16.79   0.85]]\n"
     ]
    }
   ],
   "execution_count": 221
  },
  {
   "cell_type": "code",
   "id": "e91f7fde",
   "metadata": {
    "ExecuteTime": {
     "end_time": "2024-09-17T13:18:15.949067Z",
     "start_time": "2024-09-17T13:18:15.935583Z"
    }
   },
   "source": [
    "# get the tenth-to-the-last row\n",
    "# reshape the array to a 2D array with a shape of (2, 6)\n",
    "# then transpose the array\n",
    "tenth_last_row = np_data[-10]\n",
    "print(tenth_last_row)\n",
    "print(np.reshape(tenth_last_row, (2, 6)))"
   ],
   "outputs": [
    {
     "name": "stdout",
     "output_type": "stream",
     "text": [
      "[43.81 99.58 17.85 30.13 10.57  0.8  59.7  16.14  6.45  1.49 10.3   0.16]\n",
      "[[43.81 99.58 17.85 30.13 10.57  0.8 ]\n",
      " [59.7  16.14  6.45  1.49 10.3   0.16]]\n"
     ]
    }
   ],
   "execution_count": 222
  },
  {
   "cell_type": "markdown",
   "id": "bf8aab97",
   "metadata": {},
   "source": [
    "### DATA PLOTTING (OPTIONAL)\n",
    "\n",
    "Try plotting the data using the **matplotlib** library."
   ]
  },
  {
   "cell_type": "markdown",
   "id": "1c09746b",
   "metadata": {},
   "source": [
    "#### Import the library\n",
    "\n",
    "Make sure that you have installed the library before importing it. Similar to numpy, we denoted the library as **```plt```** for readability and easier to call the functions. "
   ]
  },
  {
   "cell_type": "code",
   "id": "ad6b2ee8",
   "metadata": {
    "ExecuteTime": {
     "end_time": "2024-09-17T13:18:16.040727Z",
     "start_time": "2024-09-17T13:18:16.027878Z"
    }
   },
   "source": [
    "import matplotlib.pyplot as plt "
   ],
   "outputs": [],
   "execution_count": 223
  },
  {
   "cell_type": "markdown",
   "id": "e57f5fb7",
   "metadata": {},
   "source": [
    "#### Plot the Data\n",
    "\n",
    "Here’s a simple implementation on how to plot a numpy data using matplotlib."
   ]
  },
  {
   "cell_type": "code",
   "id": "8f32b2f2",
   "metadata": {
    "ExecuteTime": {
     "end_time": "2024-09-17T13:18:16.335508Z",
     "start_time": "2024-09-17T13:18:16.182361Z"
    }
   },
   "source": [
    "# plot the first column of the array\n",
    "pm25_column = np_data[::, 1]\n",
    "\n",
    "plt.plot(pm25_column)\n",
    "plt.xlabel('Index')\n",
    "plt.ylabel('Values')\n",
    "plt.title('PM2.5 Variation')\n",
    "plt.show()"
   ],
   "outputs": [
    {
     "data": {
      "text/plain": [
       "<Figure size 640x480 with 1 Axes>"
      ],
      "image/png": "[encoded data removed]"
     },
     "metadata": {},
     "output_type": "display_data"
    }
   ],
   "execution_count": 224
  },
  {
   "cell_type": "markdown",
   "id": "ab89e7cf",
   "metadata": {},
   "source": [
    "Try plotting different columns or subsets of data using the **```matplolib.pyplot```** library."
   ]
  },
  {
   "cell_type": "code",
   "id": "39d538df",
   "metadata": {
    "ExecuteTime": {
     "end_time": "2024-09-17T13:18:16.506685Z",
     "start_time": "2024-09-17T13:18:16.336679Z"
    }
   },
   "source": [
    "# plot the eight column of the array\n",
    "nox_column = np_data[::, 8]\n",
    "\n",
    "plt.plot(nox_column)\n",
    "plt.xlabel('Index')\n",
    "plt.ylabel('Values')\n",
    "plt.title('NOx Variation')\n",
    "plt.show()"
   ],
   "outputs": [
    {
     "data": {
      "text/plain": [
       "<Figure size 640x480 with 1 Axes>"
      ],
      "image/png": "[encoded data removed]"
     },
     "metadata": {},
     "output_type": "display_data"
    }
   ],
   "execution_count": 225
  },
  {
   "cell_type": "code",
   "id": "fbc6345f",
   "metadata": {
    "ExecuteTime": {
     "end_time": "2024-09-17T13:18:16.710329Z",
     "start_time": "2024-09-17T13:18:16.509141Z"
    }
   },
   "source": [
    "# only plot the first 50 elements in the eight column of the array\n",
    "plt.plot(nox_column[:50:])\n",
    "plt.xlabel('Index')\n",
    "plt.ylabel('Values')\n",
    "plt.title('NOx Variation (First 50)')\n",
    "plt.show()\n"
   ],
   "outputs": [
    {
     "data": {
      "text/plain": [
       "<Figure size 640x480 with 1 Axes>"
      ],
      "image/png": "[encoded data removed]"
     },
     "metadata": {},
     "output_type": "display_data"
    }
   ],
   "execution_count": 226
  },
  {
   "cell_type": "code",
   "id": "0757401f",
   "metadata": {
    "ExecuteTime": {
     "end_time": "2024-09-17T13:18:16.991208Z",
     "start_time": "2024-09-17T13:18:16.712714Z"
    }
   },
   "source": [
    "# plot the second and third column elements of the array\n",
    "# make sure that the two elements do not have the same color\n",
    "pm10_column = np_data[::, 2]\n",
    "no2_column = np_data[::, 3]\n",
    "\n",
    "plt.plot(pm10_column, label=\"PM10 Column\", color=\"yellow\")\n",
    "plt.plot(no2_column, label=\"NO2 Column\", color=\"red\")\n",
    "\n",
    "plt.xlabel('Index')\n",
    "plt.ylabel('Values')\n",
    "plt.title('PM10 and NO2 Comparison')\n",
    "plt.legend()\n",
    "\n",
    "plt.show()"
   ],
   "outputs": [
    {
     "data": {
      "text/plain": [
       "<Figure size 640x480 with 1 Axes>"
      ],
      "image/png": "[encoded data removed]"
     },
     "metadata": {},
     "output_type": "display_data"
    }
   ],
   "execution_count": 227
  },
  {
   "cell_type": "code",
   "id": "3949031e",
   "metadata": {
    "ExecuteTime": {
     "end_time": "2024-09-17T13:18:17.224160Z",
     "start_time": "2024-09-17T13:18:16.995177Z"
    }
   },
   "source": [
    "# only plot the first 10 elements in the second and third column of the array\n",
    "# make sure that the two elements do not have the same color\n",
    "\n",
    "plt.plot(pm10_column[:10:], label=\"PM10 Column\", color=\"yellow\")\n",
    "plt.plot(no2_column[:10:], label=\"NO2 Column\", color=\"red\")\n",
    "\n",
    "plt.xlabel('Index')\n",
    "plt.ylabel('Values')\n",
    "plt.title('PM10 and NO2 Comparison (1st Ten)')\n",
    "plt.legend()\n",
    "\n",
    "plt.show()"
   ],
   "outputs": [
    {
     "data": {
      "text/plain": [
       "<Figure size 640x480 with 1 Axes>"
      ],
      "image/png": "[encoded data removed]"
     },
     "metadata": {},
     "output_type": "display_data"
    }
   ],
   "execution_count": 228
  }
 ],
 "metadata": {
  "kernelspec": {
   "display_name": "Python 3 (ipykernel)",
   "language": "python",
   "name": "python3"
  },
  "language_info": {
   "codemirror_mode": {
    "name": "ipython",
    "version": 3
   },
   "file_extension": ".py",
   "mimetype": "text/x-python",
   "name": "python",
   "nbconvert_exporter": "python",
   "pygments_lexer": "ipython3",
   "version": "3.10.5"
  }
 },
 "nbformat": 4,
 "nbformat_minor": 5
}
