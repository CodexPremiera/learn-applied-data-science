{
 "cells": [
  {
   "cell_type": "markdown",
   "id": "8038a471",
   "metadata": {},
   "source": [
    "# Python Activity 2: Dictionaries and Sets\n",
    "\n",
    "This activity tests your understanding of the dictionary and set data structures in Python. For every cell, follow the provided instructions on what operations will be needed to achieve the results for that given function by inputting your own code. \n",
    "\n",
    "Easy questions get **3 pts**. Hard questions get **6 pts**. Correct answer is **3 pts for easy and 6 for hard**. Slightly wrong answers get **2 pts for easy and 4 pts for hard**. Wrong answers but not empty are **1 pt for easy and hard**. Empty answer is 0. \n",
    "\n",
    "**Total: 50 pts**"
   ]
  },
  {
   "cell_type": "markdown",
   "id": "d943a384",
   "metadata": {},
   "source": [
    "## Section 1: Dictionaries\n"
   ]
  },
  {
   "cell_type": "code",
   "id": "8d455b87",
   "metadata": {
    "ExecuteTime": {
     "end_time": "2024-09-13T14:51:55.215466Z",
     "start_time": "2024-09-13T14:51:55.205178Z"
    }
   },
   "source": [
    "# (3 pts)Task 1: Create a dictionary named 'student' with the following key-value pairs:\n",
    "# 'name' -> 'John Doe', 'age' -> 22, 'courses' -> ['Math', 'Science']\n",
    "# Then, add a new key-value pair 'grade' -> 'A' to the dictionary.\n",
    "# Finally, print the dictionary.\n",
    "\n",
    "# Your code here:\n",
    "import json\n",
    "\n",
    "student = {\n",
    "    'name': 'John Doe',\n",
    "    'age': 22,\n",
    "    'courses': ['Math', 'Science']\n",
    "}\n",
    "print(json.dumps(student, indent=4)) # not needed, but good to see the output\n",
    "\n",
    "student['grade'] = 'A'\n",
    "print(json.dumps(student, indent=4))"
   ],
   "outputs": [
    {
     "name": "stdout",
     "output_type": "stream",
     "text": [
      "{\n",
      "    \"name\": \"John Doe\",\n",
      "    \"age\": 22,\n",
      "    \"courses\": [\n",
      "        \"Math\",\n",
      "        \"Science\"\n",
      "    ]\n",
      "}\n",
      "{\n",
      "    \"name\": \"John Doe\",\n",
      "    \"age\": 22,\n",
      "    \"courses\": [\n",
      "        \"Math\",\n",
      "        \"Science\"\n",
      "    ],\n",
      "    \"grade\": \"A\"\n",
      "}\n"
     ]
    }
   ],
   "execution_count": 4
  },
  {
   "cell_type": "code",
   "id": "9b549551",
   "metadata": {
    "ExecuteTime": {
     "end_time": "2024-09-13T14:52:03.674544Z",
     "start_time": "2024-09-13T14:52:03.656806Z"
    }
   },
   "source": [
    "# (6 pts)Task 2: Given the dictionary 'student' from Task 1, perform the following operations:\n",
    "# 1. Access and print the value of 'name' key.\n",
    "# 2. Modify the 'age' key to 23.\n",
    "# 3. Print the updated dictionary.\n",
    "\n",
    "# Your code here:\n",
    "\n",
    "student = {\n",
    "    'name': 'John Doe',\n",
    "    'age': 22,\n",
    "    'courses': ['Math', 'Science'],\n",
    "    'grade': 'A'\n",
    "}\n",
    "\n",
    "print(student['name'])\n",
    "student['age'] = 23\n",
    "print(json.dumps(student, indent=4))\n"
   ],
   "outputs": [
    {
     "name": "stdout",
     "output_type": "stream",
     "text": [
      "John Doe\n",
      "{\n",
      "    \"name\": \"John Doe\",\n",
      "    \"age\": 23,\n",
      "    \"courses\": [\n",
      "        \"Math\",\n",
      "        \"Science\"\n",
      "    ],\n",
      "    \"grade\": \"A\"\n",
      "}\n"
     ]
    }
   ],
   "execution_count": 5
  },
  {
   "cell_type": "code",
   "id": "b68072b9",
   "metadata": {
    "ExecuteTime": {
     "end_time": "2024-09-13T14:49:55.215860Z",
     "start_time": "2024-09-13T14:49:55.198446Z"
    }
   },
   "source": [
    "# (6 pts)Task 3: Using the 'student' dictionary, demonstrate the use of the following methods:\n",
    "# 1. Use '.get()' to access the 'courses' key and print its value. Handle the case if the key does not exist.\n",
    "# 2. Print all the keys of the dictionary using '.keys()'.\n",
    "# 3. Print all the values of the dictionary using '.values()'.\n",
    "\n",
    "# Your code here:\n",
    "\n",
    "student = {\n",
    "    'name': 'John Doe',\n",
    "    'age': 23,\n",
    "    'courses': ['Math', 'Science'],\n",
    "    'grade': 'A'\n",
    "}\n",
    "\n",
    "print(student.get('courses', 'none'))\n",
    "print(student.keys())\n",
    "print(student.values())\n"
   ],
   "outputs": [
    {
     "name": "stdout",
     "output_type": "stream",
     "text": [
      "['Math', 'Science']\n",
      "dict_keys(['name', 'age', 'courses', 'grade'])\n",
      "dict_values(['John Doe', 23, ['Math', 'Science'], 'A'])\n"
     ]
    }
   ],
   "execution_count": 3
  },
  {
   "cell_type": "code",
   "id": "1c70f6db",
   "metadata": {
    "ExecuteTime": {
     "end_time": "2024-09-13T15:05:51.326443Z",
     "start_time": "2024-09-13T15:05:51.311010Z"
    }
   },
   "source": [
    "# (6 pts) Task 4: Create a nested dictionary 'classroom' where each key is a student's name and the value is another\n",
    "# dictionary with keys 'age' and 'grades' pointing to their age and a list of grades, respectively.\n",
    "# Example:\n",
    "# classroom = {\n",
    "#     'Alice': {'age': 22, 'grades': ['A', 'B+', 'A-']},\n",
    "#     'Bob': {'age': 23, 'grades': ['B', 'B-', 'C+']}\n",
    "# }\n",
    "# Add a new student named 'Charlie' with age 24 and grades ['A+', 'A', 'A-'] to the 'classroom' dictionary.\n",
    "# Print the updated 'classroom' dictionary.\n",
    "\n",
    "# Your code here:\n",
    "\n",
    "classroom = {\n",
    "    'Alice': {'age': 22, 'grades': ['A', 'B+', 'A-']},\n",
    "    'Bob': {'age': 23, 'grades': ['B', 'B-', 'C+']}\n",
    "}\n",
    "print(json.dumps(classroom, indent=4))\n",
    "\n",
    "classroom['Charlie'] = {'age': 24, 'grades': ['A+', 'A', 'A-']}\n",
    "print(json.dumps(classroom, indent=4))"
   ],
   "outputs": [
    {
     "name": "stdout",
     "output_type": "stream",
     "text": [
      "{\n",
      "    \"Alice\": {\n",
      "        \"age\": 22,\n",
      "        \"grades\": [\n",
      "            \"A\",\n",
      "            \"B+\",\n",
      "            \"A-\"\n",
      "        ]\n",
      "    },\n",
      "    \"Bob\": {\n",
      "        \"age\": 23,\n",
      "        \"grades\": [\n",
      "            \"B\",\n",
      "            \"B-\",\n",
      "            \"C+\"\n",
      "        ]\n",
      "    }\n",
      "}\n",
      "{\n",
      "    \"Alice\": {\n",
      "        \"age\": 22,\n",
      "        \"grades\": [\n",
      "            \"A\",\n",
      "            \"B+\",\n",
      "            \"A-\"\n",
      "        ]\n",
      "    },\n",
      "    \"Bob\": {\n",
      "        \"age\": 23,\n",
      "        \"grades\": [\n",
      "            \"B\",\n",
      "            \"B-\",\n",
      "            \"C+\"\n",
      "        ]\n",
      "    },\n",
      "    \"Charlie\": {\n",
      "        \"age\": 24,\n",
      "        \"grades\": [\n",
      "            \"A+\",\n",
      "            \"A\",\n",
      "            \"A-\"\n",
      "        ]\n",
      "    }\n",
      "}\n"
     ]
    }
   ],
   "execution_count": 14
  },
  {
   "cell_type": "code",
   "id": "8b1ca00d",
   "metadata": {
    "ExecuteTime": {
     "end_time": "2024-09-13T15:06:41.185692Z",
     "start_time": "2024-09-13T15:06:41.167707Z"
    }
   },
   "source": [
    "# (6 pts) Task 5: Using the 'classroom' dictionary from Task 4, create a new dictionary 'age_map' using dictionary comprehension\n",
    "# that maps each student's name to their age. Then, print 'age_map'.\n",
    "# 'age_map' should look something like this:\n",
    "#     {'Alice':22, 'Bob':23,...}\n",
    "\n",
    "# Your code here:\n",
    "\n",
    "age_map = {name: student['age'] for name, student in classroom.items()}\n",
    "print(json.dumps(age_map, indent=4))\n"
   ],
   "outputs": [
    {
     "name": "stdout",
     "output_type": "stream",
     "text": [
      "{\n",
      "    \"Alice\": 22,\n",
      "    \"Bob\": 23,\n",
      "    \"Charlie\": 24\n",
      "}\n"
     ]
    }
   ],
   "execution_count": 18
  },
  {
   "cell_type": "markdown",
   "id": "6661790c",
   "metadata": {},
   "source": [
    "## Section 2: Sets"
   ]
  },
  {
   "cell_type": "code",
   "id": "dfb84215",
   "metadata": {
    "ExecuteTime": {
     "end_time": "2024-09-13T15:07:14.174898Z",
     "start_time": "2024-09-13T15:07:14.158115Z"
    }
   },
   "source": [
    "# (2 pts) Task 6: Create two sets, set1 and set2, with the following elements:\n",
    "# set1 = {1, 2, 3, 4, 5}\n",
    "# set2 = {4, 5, 6, 7, 8}\n",
    "# Then, print set1 and set2\n",
    "\n",
    "# Your code here:\n",
    "\n",
    "set1 = {1, 2, 3, 4, 5}\n",
    "set2 = {4, 5, 6, 7, 8}\n",
    "print(set1)\n",
    "print(set2)\n"
   ],
   "outputs": [
    {
     "name": "stdout",
     "output_type": "stream",
     "text": [
      "{1, 2, 3, 4, 5}\n",
      "{4, 5, 6, 7, 8}\n"
     ]
    }
   ],
   "execution_count": 19
  },
  {
   "cell_type": "code",
   "id": "ae5f8bb4",
   "metadata": {
    "ExecuteTime": {
     "end_time": "2024-09-13T15:09:18.558591Z",
     "start_time": "2024-09-13T15:09:18.545144Z"
    }
   },
   "source": [
    "# Task 7: Perform the following operations in the next few code blocks:\n",
    "# 7.1. Find the union of set1 and set2 and print it.\n",
    "# 7.2. Find the intersection of set1 and set2 and print it.\n",
    "# 7.3. Find the difference between set1 and set2 and print it.\n",
    "# 7.4. Find the symmetric difference between set1 and set2 and print it.\n",
    "\n",
    "# (3 pts) Your code for 7.1 (Union) here:\n",
    "print(set1.union(set2))"
   ],
   "outputs": [
    {
     "name": "stdout",
     "output_type": "stream",
     "text": [
      "{1, 2, 3, 4, 5, 6, 7, 8}\n"
     ]
    }
   ],
   "execution_count": 22
  },
  {
   "cell_type": "code",
   "id": "3106ed2f",
   "metadata": {
    "ExecuteTime": {
     "end_time": "2024-09-13T15:09:20.695165Z",
     "start_time": "2024-09-13T15:09:20.683222Z"
    }
   },
   "source": [
    "# (3 pts) Your code for 7.2 (intersection) here:\n",
    "print(set1.intersection(set2))\n"
   ],
   "outputs": [
    {
     "name": "stdout",
     "output_type": "stream",
     "text": [
      "{4, 5}\n"
     ]
    }
   ],
   "execution_count": 23
  },
  {
   "cell_type": "code",
   "id": "42cbba84",
   "metadata": {
    "ExecuteTime": {
     "end_time": "2024-09-13T15:10:16.333792Z",
     "start_time": "2024-09-13T15:10:16.318341Z"
    }
   },
   "source": [
    "# (3 pts) Your code for 7.3 (difference) here:\n",
    "print(set1.difference(set2))\n",
    "print(set2.difference(set1))\n"
   ],
   "outputs": [
    {
     "name": "stdout",
     "output_type": "stream",
     "text": [
      "{1, 2, 3}\n",
      "{8, 6, 7}\n"
     ]
    }
   ],
   "execution_count": 25
  },
  {
   "cell_type": "code",
   "id": "0d51ebfe",
   "metadata": {
    "ExecuteTime": {
     "end_time": "2024-09-13T15:10:23.154151Z",
     "start_time": "2024-09-13T15:10:23.142721Z"
    }
   },
   "source": [
    "# (3 pts) Your code for 7.4 (symmetric difference) here:\n",
    "print(set1.symmetric_difference(set2))\n"
   ],
   "outputs": [
    {
     "name": "stdout",
     "output_type": "stream",
     "text": [
      "{1, 2, 3, 6, 7, 8}\n"
     ]
    }
   ],
   "execution_count": 26
  },
  {
   "cell_type": "code",
   "id": "f0dbcd92",
   "metadata": {
    "ExecuteTime": {
     "end_time": "2024-09-13T15:10:59.589742Z",
     "start_time": "2024-09-13T15:10:59.577180Z"
    }
   },
   "source": [
    "# (3 pts) Task 8: Create a set 'squared_set' containing the squares of numbers from 1 to 10 using set comprehension.\n",
    "# Print 'squared_set'.\n",
    "\n",
    "# Your code here:\n",
    "squared_set = {x**2 for x in range(1, 11)}\n",
    "print(squared_set)\n"
   ],
   "outputs": [
    {
     "name": "stdout",
     "output_type": "stream",
     "text": [
      "{64, 1, 4, 36, 100, 9, 16, 49, 81, 25}\n"
     ]
    }
   ],
   "execution_count": 27
  },
  {
   "cell_type": "code",
   "id": "4624fc01",
   "metadata": {
    "ExecuteTime": {
     "end_time": "2024-09-13T15:12:44.419238Z",
     "start_time": "2024-09-13T15:12:44.399553Z"
    }
   },
   "source": [
    "# (6 pts) Task 9: Given the dictionary 'student_scores' below where each key is a student's name and the value is their score,\n",
    "# filter the dictionary to only include students with a score above 75.\n",
    "# Then, sort this filtered dictionary by score in descending order.\n",
    "# Hint: You might find lambda functions useful for sorting.\n",
    "# Example input: {'Alice': 80, 'Bob': 65, 'Charlie': 90, 'Dana': 76}\n",
    "# Expected output: {'Charlie': 90, 'Alice': 80, 'Dana': 76}\n",
    "\n",
    "# Your code here\n",
    "# Given input dictionary\n",
    "student_scores = {'Alice': 80, 'Bob': 65, 'Charlie': 90, 'Dana': 76}\n",
    "\n",
    "# filter\n",
    "filtered_students = {name: score for name, score in student_scores.items() if score > 75}\n",
    "\n",
    "# sort\n",
    "sorted_students = dict(sorted(filtered_students.items(), key=lambda x: x[1], reverse=True))\n",
    "print(sorted_students)\n"
   ],
   "outputs": [
    {
     "name": "stdout",
     "output_type": "stream",
     "text": [
      "{'Charlie': 90, 'Alice': 80, 'Dana': 76}\n"
     ]
    }
   ],
   "execution_count": 30
  }
 ],
 "metadata": {
  "kernelspec": {
   "display_name": "Python 3 (ipykernel)",
   "language": "python",
   "name": "python3"
  },
  "language_info": {
   "codemirror_mode": {
    "name": "ipython",
    "version": 3
   },
   "file_extension": ".py",
   "mimetype": "text/x-python",
   "name": "python",
   "nbconvert_exporter": "python",
   "pygments_lexer": "ipython3",
   "version": "3.11.2"
  }
 },
 "nbformat": 4,
 "nbformat_minor": 5
}
